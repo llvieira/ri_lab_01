{
 "cells": [
  {
   "cell_type": "code",
   "execution_count": 3,
   "metadata": {},
   "outputs": [],
   "source": [
    "# import nltk\n",
    "# from nltk.corpus import reuters\n",
    "# from nltk.corpus import wordnet\n",
    "import pandas as pd"
   ]
  },
  {
   "cell_type": "code",
   "execution_count": 14,
   "metadata": {},
   "outputs": [
    {
     "data": {
      "text/html": [
       "<div>\n",
       "<style scoped>\n",
       "    .dataframe tbody tr th:only-of-type {\n",
       "        vertical-align: middle;\n",
       "    }\n",
       "\n",
       "    .dataframe tbody tr th {\n",
       "        vertical-align: top;\n",
       "    }\n",
       "\n",
       "    .dataframe thead th {\n",
       "        text-align: right;\n",
       "    }\n",
       "</style>\n",
       "<table border=\"1\" class=\"dataframe\">\n",
       "  <thead>\n",
       "    <tr style=\"text-align: right;\">\n",
       "      <th></th>\n",
       "      <th>date</th>\n",
       "      <th>sub_title</th>\n",
       "      <th>text</th>\n",
       "      <th>url</th>\n",
       "      <th>section</th>\n",
       "      <th>title</th>\n",
       "      <th>author</th>\n",
       "    </tr>\n",
       "  </thead>\n",
       "  <tbody>\n",
       "    <tr>\n",
       "      <th>0</th>\n",
       "      <td>02/Apr/2019 14:50:42</td>\n",
       "      <td>NaN</td>\n",
       "      <td>NaN</td>\n",
       "      <td>https://www.diariodocentrodomundo.com.br/video...</td>\n",
       "      <td>Esporte</td>\n",
       "      <td>VÍDEO – Empresário que diz ser responsável por...</td>\n",
       "      <td>Davi Nogueira</td>\n",
       "    </tr>\n",
       "    <tr>\n",
       "      <th>1</th>\n",
       "      <td>04/Apr/2019 23:47:36</td>\n",
       "      <td>NaN</td>\n",
       "      <td>Representando um grupo de promotores e procura...</td>\n",
       "      <td>https://www.diariodocentrodomundo.com.br/se-na...</td>\n",
       "      <td>Politica</td>\n",
       "      <td>“Se não fosse Lula, o processo estaria morto”,...</td>\n",
       "      <td>Diario do Centro do Mundo</td>\n",
       "    </tr>\n",
       "    <tr>\n",
       "      <th>2</th>\n",
       "      <td>04/Apr/2019 22:07:04</td>\n",
       "      <td>NaN</td>\n",
       "      <td>NaN</td>\n",
       "      <td>https://www.diariodocentrodomundo.com.br/video...</td>\n",
       "      <td>Politica</td>\n",
       "      <td>VÍDEO: Temer critica o MPF e o juiz Bretas em ...</td>\n",
       "      <td>Pedro Zambarda de Araujo</td>\n",
       "    </tr>\n",
       "    <tr>\n",
       "      <th>3</th>\n",
       "      <td>04/Apr/2019 21:02:50</td>\n",
       "      <td>NaN</td>\n",
       "      <td>NaN</td>\n",
       "      <td>https://www.diariodocentrodomundo.com.br/essen...</td>\n",
       "      <td>Politica</td>\n",
       "      <td>Essencial do DCM – Moro estreia no Twitter e v...</td>\n",
       "      <td>Pedro Zambarda de Araujo</td>\n",
       "    </tr>\n",
       "    <tr>\n",
       "      <th>4</th>\n",
       "      <td>04/Apr/2019 20:35:53</td>\n",
       "      <td>NaN</td>\n",
       "      <td>O embate violento entre Zeca Dirceu e Paulo Gu...</td>\n",
       "      <td>https://www.diariodocentrodomundo.com.br/bolso...</td>\n",
       "      <td>Politica</td>\n",
       "      <td>Bolsonaro e seu Posto Ipiranga são derrotados ...</td>\n",
       "      <td>Diario do Centro do Mundo</td>\n",
       "    </tr>\n",
       "  </tbody>\n",
       "</table>\n",
       "</div>"
      ],
      "text/plain": [
       "                   date  sub_title  \\\n",
       "0  02/Apr/2019 14:50:42        NaN   \n",
       "1  04/Apr/2019 23:47:36        NaN   \n",
       "2  04/Apr/2019 22:07:04        NaN   \n",
       "3  04/Apr/2019 21:02:50        NaN   \n",
       "4  04/Apr/2019 20:35:53        NaN   \n",
       "\n",
       "                                                text  \\\n",
       "0                                                NaN   \n",
       "1  Representando um grupo de promotores e procura...   \n",
       "2                                                NaN   \n",
       "3                                                NaN   \n",
       "4  O embate violento entre Zeca Dirceu e Paulo Gu...   \n",
       "\n",
       "                                                 url   section  \\\n",
       "0  https://www.diariodocentrodomundo.com.br/video...   Esporte   \n",
       "1  https://www.diariodocentrodomundo.com.br/se-na...  Politica   \n",
       "2  https://www.diariodocentrodomundo.com.br/video...  Politica   \n",
       "3  https://www.diariodocentrodomundo.com.br/essen...  Politica   \n",
       "4  https://www.diariodocentrodomundo.com.br/bolso...  Politica   \n",
       "\n",
       "                                               title  \\\n",
       "0  VÍDEO – Empresário que diz ser responsável por...   \n",
       "1  “Se não fosse Lula, o processo estaria morto”,...   \n",
       "2  VÍDEO: Temer critica o MPF e o juiz Bretas em ...   \n",
       "3  Essencial do DCM – Moro estreia no Twitter e v...   \n",
       "4  Bolsonaro e seu Posto Ipiranga são derrotados ...   \n",
       "\n",
       "                      author  \n",
       "0              Davi Nogueira  \n",
       "1  Diario do Centro do Mundo  \n",
       "2   Pedro Zambarda de Araujo  \n",
       "3   Pedro Zambarda de Araujo  \n",
       "4  Diario do Centro do Mundo  "
      ]
     },
     "execution_count": 14,
     "metadata": {},
     "output_type": "execute_result"
    }
   ],
   "source": [
    "data = pd.read_csv(\"../output/results.csv\")\n",
    "data.head()"
   ]
  },
  {
   "cell_type": "code",
   "execution_count": 6,
   "metadata": {},
   "outputs": [
    {
     "data": {
      "text/plain": [
       "(119, 7)"
      ]
     },
     "execution_count": 6,
     "metadata": {},
     "output_type": "execute_result"
    }
   ],
   "source": [
    "data.shape"
   ]
  },
  {
   "cell_type": "code",
   "execution_count": 15,
   "metadata": {},
   "outputs": [
    {
     "data": {
      "text/plain": [
       "(93,)"
      ]
     },
     "execution_count": 15,
     "metadata": {},
     "output_type": "execute_result"
    }
   ],
   "source": [
    "data = data[\"text\"].dropna()\n",
    "data.shape"
   ]
  },
  {
   "cell_type": "code",
   "execution_count": null,
   "metadata": {},
   "outputs": [],
   "source": []
  }
 ],
 "metadata": {
  "kernelspec": {
   "display_name": "Python 2",
   "language": "python",
   "name": "python2"
  },
  "language_info": {
   "codemirror_mode": {
    "name": "ipython",
    "version": 2
   },
   "file_extension": ".py",
   "mimetype": "text/x-python",
   "name": "python",
   "nbconvert_exporter": "python",
   "pygments_lexer": "ipython2",
   "version": "2.7.15rc1"
  }
 },
 "nbformat": 4,
 "nbformat_minor": 2
}
